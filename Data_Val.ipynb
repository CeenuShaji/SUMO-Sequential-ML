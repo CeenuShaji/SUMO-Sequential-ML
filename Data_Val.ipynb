{
 "cells": [
  {
   "cell_type": "code",
   "execution_count": 1,
   "id": "088b7196",
   "metadata": {},
   "outputs": [],
   "source": [
    "import csv\n",
    "\n",
    "# Open the .txt file and the target .csv file\n",
    "with open('traj.txt', 'r') as txt_file, open('traj.csv', 'w', newline='') as csv_file:\n",
    "    # Create a csv writer object\n",
    "    csv_writer = csv.writer(csv_file)\n",
    "\n",
    "    # Read each line in the text file\n",
    "    for line in txt_file:\n",
    "        # Split the line into fields using the comma as a delimiter\n",
    "        fields = line.strip().split(',')\n",
    "        \n",
    "        # Write the fields to the csv file\n",
    "        csv_writer.writerow(fields)"
   ]
  },
  {
   "cell_type": "code",
   "execution_count": null,
   "id": "886e7b96",
   "metadata": {},
   "outputs": [],
   "source": []
  }
 ],
 "metadata": {
  "kernelspec": {
   "display_name": "Python 3 (ipykernel)",
   "language": "python",
   "name": "python3"
  },
  "language_info": {
   "codemirror_mode": {
    "name": "ipython",
    "version": 3
   },
   "file_extension": ".py",
   "mimetype": "text/x-python",
   "name": "python",
   "nbconvert_exporter": "python",
   "pygments_lexer": "ipython3",
   "version": "3.9.12"
  }
 },
 "nbformat": 4,
 "nbformat_minor": 5
}
